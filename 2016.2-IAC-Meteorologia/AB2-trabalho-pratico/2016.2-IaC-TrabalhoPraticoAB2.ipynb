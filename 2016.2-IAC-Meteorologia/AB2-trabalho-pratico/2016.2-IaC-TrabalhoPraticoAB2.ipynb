{
 "cells": [
  {
   "cell_type": "markdown",
   "metadata": {},
   "source": [
    "<p align=\"center\">\n",
    "Universidade Federal de Alagoas</br>\n",
    "\n",
    "</p>\n",
    "\n",
    "# Trabalho Prático AB2\n",
    "\n",
    "* **Disciplina**: Introdução à Computação - METR001\n",
    "* **Semestre letivo**: 2016.2\n",
    "* **Professor**: André Lage Freitas\n",
    "* [Documentação oficial da linguagem Julia](http://docs.julialang.org/en/stable/manual)\n",
    "\n",
    "**Importante**. Leia atentamente essa seção pois só serão aceitos trabalhos que obedecerem as a especificações a seguir. \n",
    "\n",
    "\n",
    "\n",
    "## Entrega\n",
    "\n",
    "As respostas deverão ser entregues nos devidos campos desse arquivo, ou seja, em [Markdown](https://en.wikipedia.org/wiki/Markdown) e no formato [IJulia Notebook](https://github.com/JuliaLang/IJulia.jl).\n",
    "\n",
    "O programa deve ser implementado na linguagem de programação **Julia** na versão 0.5.0. Seu trabalho será testado na [JuliaBox](https://juliabox.com), portanto teste seu arquivo IJulia na JulizBox antes de enviá-lo.\n",
    "\n",
    "\n",
    "### Forma \n",
    "\n",
    "O arquivo IJulia Notebook deverá ser entregue ao Professor **exclusivamente por e-mail** para o seguinte endereço: **prof.alage** @ **gmail com**\n",
    "\n",
    "\n",
    "Será registrada como data de recebimento do trabalho a data indicada pelo servidor de e-mail do Professor. \n",
    "\n",
    "A responsabilidade sobre a integridade do arquivo contendo trabalho é exclusivamente dos discentes. Serão ignorados os trabalhos cujos arquivos não conseguirem ser abertos ou se o e-mail não chegar à caixa de entrada de e-mail do Professor.\n",
    "\n",
    "### Prazos\n",
    "\n",
    "O prazo de entrega sem atraso é o dia **10/05/17**.\n",
    "\n",
    "Trabalhos entregues com atraso serão aceitos, no máximo, até o o dia **11/05/17**. Serão descontados 5% da nota obtida por dia de atraso.\n",
    "\n",
    "\n",
    "## Pontuação e pontuação extra\n",
    "\n",
    "O valor da nota do trabalho é **10,0 pontos**.\n",
    "\n",
    "O(a) discente que realizar mais tarefas, além do que foi especificado neste trabalho, o professor atribuirá de 0,5 a 1,0 ponto extra a depender da relevância da contribuição no programa. O critério será decidido pelo professor. \n",
    "\n",
    "O(a) discente deve indicar qual foi a tarefa executada. Por exemplo, adição de funcionalidades, armazenamento de dados em arquivo, documentação de código, comentários em inglês sem erros ortográficos, etc.\n",
    "\n",
    "\n",
    "**Plágio. A nota zero será atribuída caso haja qualquer tipo de cópia parcial ou integral**. Leia a [cartilha sobre plágio](http://www.noticias.uff.br/arquivos/cartilha-sobre-plagio-academico.pdf).\n",
    "\n",
    "## Disclaimer\n",
    "\n",
    "Esse material foi elaborado pelo [Prof. André Lage Freitas](https://sites.google.com/a/ic.ufal.br/andrelage/) e está licenciado sob a licença _GNU General Public License v3.0_."
   ]
  },
  {
   "cell_type": "markdown",
   "metadata": {},
   "source": [
    "## Especificação do trabalho prático\n",
    "\n",
    "No campo a seguir, implemente uma função que verifique se uma matriz $M_{n~\\times~n}$ é triangular inferior, triangular superior. \n",
    "\n",
    "A função deve imprimir na tela informando se a matriz triangular inferior, triangular superior ou se a matriz não é nem triangular inferior nem superior. \n",
    "\n",
    "Dica: estude e utilize a função [size](https://docs.julialang.org/en/stable/stdlib/arrays/?highlight=size#Base.size) para auxiliá-lo(a) na implementação do programa."
   ]
  },
  {
   "cell_type": "code",
   "execution_count": 1,
   "metadata": {
    "collapsed": false
   },
   "outputs": [],
   "source": [
    "# escrever e executar o código da função da Questão 1"
   ]
  }
 ],
 "metadata": {
  "kernelspec": {
   "display_name": "Julia 0.5.1",
   "language": "julia",
   "name": "julia-0.5"
  },
  "language_info": {
   "file_extension": ".jl",
   "mimetype": "application/julia",
   "name": "julia",
   "version": "0.5.1"
  }
 },
 "nbformat": 4,
 "nbformat_minor": 0
}
